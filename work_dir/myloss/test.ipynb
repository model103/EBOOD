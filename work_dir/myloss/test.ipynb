{
 "cells": [
  {
   "cell_type": "code",
   "execution_count": 2,
   "id": "877bd2b1",
   "metadata": {
    "ExecuteTime": {
     "end_time": "2023-04-04T12:31:52.452363Z",
     "start_time": "2023-04-04T12:31:11.816880Z"
    }
   },
   "outputs": [
    {
     "name": "stdout",
     "output_type": "stream",
     "text": [
      "/opt/data/private/shen/mmdetection-2.26.0/mmdet/models/dense_heads/anchor_head.py:116: UserWarning: DeprecationWarning: `num_anchors` is deprecated, for consistency or also use `num_base_priors` instead\n",
      "  warnings.warn('DeprecationWarning: `num_anchors` is deprecated, '\n",
      "load checkpoint from local path: checkpoints/epoch_2.pth\n",
      "[                                                  ] 0/60, elapsed: 0s, ETA:/opt/data/private/shen/mmdetection-2.26.0/mmdet/models/dense_heads/anchor_head.py:123: UserWarning: DeprecationWarning: anchor_generator is deprecated, please use \"prior_generator\" instead\n",
      "  warnings.warn('DeprecationWarning: anchor_generator is deprecated, '\n",
      "[>>>>>>>>>>>>>>>>>>>>>>>>>>>>>>>>] 60/60, 3.5 task/s, elapsed: 17s, ETA:     0s\n",
      "+----------+-----+------+--------+-------+\n",
      "| class    | gts | dets | recall | ap    |\n",
      "+----------+-----+------+--------+-------+\n",
      "| type_001 | 47  | 127  | 1.000  | 0.961 |\n",
      "| type_002 | 48  | 79   | 0.958  | 0.909 |\n",
      "| type_003 | 49  | 98   | 1.000  | 0.948 |\n",
      "| type_004 | 48  | 78   | 0.979  | 0.909 |\n",
      "| type_005 | 59  | 98   | 0.983  | 0.892 |\n",
      "| type_006 | 63  | 95   | 0.952  | 0.909 |\n",
      "| type_007 | 55  | 60   | 1.000  | 1.000 |\n",
      "| type_008 | 55  | 103  | 1.000  | 1.000 |\n",
      "| type_009 | 45  | 58   | 1.000  | 1.000 |\n",
      "| type_010 | 51  | 86   | 1.000  | 1.000 |\n",
      "| type_011 | 51  | 64   | 1.000  | 1.000 |\n",
      "| type_012 | 45  | 85   | 1.000  | 1.000 |\n",
      "| type_013 | 45  | 98   | 1.000  | 0.993 |\n",
      "+----------+-----+------+--------+-------+\n",
      "| mAP      |     |      |        | 0.963 |\n",
      "+----------+-----+------+--------+-------+\n",
      "{'mAP': 0.9632375240325928}\n"
     ]
    }
   ],
   "source": [
    "!python ../../tools/test.py \\\n",
    "  myloss_train.py \\\n",
    "  checkpoints/epoch_2.pth --eval mAP"
   ]
  },
  {
   "cell_type": "code",
   "execution_count": null,
   "id": "46ab28ed",
   "metadata": {},
   "outputs": [],
   "source": []
  }
 ],
 "metadata": {
  "kernelspec": {
   "display_name": "Python [conda env:open-mmlab] *",
   "language": "python",
   "name": "conda-env-open-mmlab-py"
  },
  "language_info": {
   "codemirror_mode": {
    "name": "ipython",
    "version": 3
   },
   "file_extension": ".py",
   "mimetype": "text/x-python",
   "name": "python",
   "nbconvert_exporter": "python",
   "pygments_lexer": "ipython3",
   "version": "3.7.13"
  }
 },
 "nbformat": 4,
 "nbformat_minor": 5
}
