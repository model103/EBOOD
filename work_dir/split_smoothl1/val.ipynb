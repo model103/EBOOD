{
 "cells": [
  {
   "cell_type": "code",
   "execution_count": 1,
   "id": "427291f7",
   "metadata": {
    "ExecuteTime": {
     "end_time": "2023-01-15T16:29:22.749284Z",
     "start_time": "2023-01-15T16:18:21.824967Z"
    }
   },
   "outputs": [
    {
     "name": "stdout",
     "output_type": "stream",
     "text": [
      "/opt/data/private/shen/mmrotate-0.3.3/mmrotate/utils/setup_env.py:39: UserWarning: Setting OMP_NUM_THREADS environment variable for each process to be 1 in default, to avoid your system being overloaded, please further tune the variable for optimal performance in your application as needed.\n",
      "  f'Setting OMP_NUM_THREADS environment variable for each process '\n",
      "/opt/data/private/shen/mmrotate-0.3.3/mmrotate/utils/setup_env.py:49: UserWarning: Setting MKL_NUM_THREADS environment variable for each process to be 1 in default, to avoid your system being overloaded, please further tune the variable for optimal performance in your application as needed.\n",
      "  f'Setting MKL_NUM_THREADS environment variable for each process '\n",
      "/opt/data/private/shen/mmdetection-2.26.0/mmdet/models/dense_heads/anchor_head.py:116: UserWarning: DeprecationWarning: `num_anchors` is deprecated, for consistency or also use `num_base_priors` instead\n",
      "  warnings.warn('DeprecationWarning: `num_anchors` is deprecated, '\n",
      "load checkpoint from local path: /opt/data/private/shen/mmrotate-0.3.3/checkpoints/oriented_rcnn_r50_fpn_1x_dota_le90-6d2b2ce0.pth\n",
      "[                                                  ] 0/3066, elapsed: 0s, ETA:/opt/data/private/shen/mmdetection-2.26.0/mmdet/models/dense_heads/anchor_head.py:123: UserWarning: DeprecationWarning: anchor_generator is deprecated, please use \"prior_generator\" instead\n",
      "  warnings.warn('DeprecationWarning: anchor_generator is deprecated, '\n",
      "[>>>>>>>>>>>>>>>>>>>>>>>>>>>] 3066/3066, 7.9 task/s, elapsed: 389s, ETA:     0s\n",
      "+--------------------+-------+-------+--------+-------+\n",
      "| class              | gts   | dets  | recall | ap    |\n",
      "+--------------------+-------+-------+--------+-------+\n",
      "| plane              | 4449  | 5043  | 0.962  | 0.904 |\n",
      "| baseball-diamond   | 358   | 640   | 0.953  | 0.879 |\n",
      "| bridge             | 783   | 2227  | 0.830  | 0.707 |\n",
      "| ground-track-field | 212   | 637   | 0.948  | 0.880 |\n",
      "| small-vehicle      | 10579 | 22388 | 0.854  | 0.736 |\n",
      "| large-vehicle      | 8819  | 15323 | 0.963  | 0.883 |\n",
      "| ship               | 18537 | 22269 | 0.957  | 0.900 |\n",
      "| tennis-court       | 1512  | 1806  | 0.974  | 0.909 |\n",
      "| basketball-court   | 266   | 479   | 1.000  | 0.970 |\n",
      "| storage-tank       | 4740  | 4827  | 0.744  | 0.716 |\n",
      "| soccer-ball-field  | 251   | 771   | 0.944  | 0.852 |\n",
      "| roundabout         | 275   | 552   | 0.895  | 0.797 |\n",
      "| harbor             | 4167  | 6269  | 0.902  | 0.857 |\n",
      "| swimming-pool      | 732   | 1400  | 0.867  | 0.734 |\n",
      "| helicopter         | 122   | 308   | 0.877  | 0.776 |\n",
      "+--------------------+-------+-------+--------+-------+\n",
      "| mAP                |       |       |        | 0.833 |\n",
      "+--------------------+-------+-------+--------+-------+\n",
      "{'mAP': 0.8334417939186096}\n"
     ]
    }
   ],
   "source": [
    "!python /opt/data/private/shen/mmrotate-0.3.3/tools/test.py \\\n",
    "  split_smoothl1.py \\\n",
    "  /opt/data/private/shen/mmrotate-0.3.3/checkpoints/oriented_rcnn_r50_fpn_1x_dota_le90-6d2b2ce0.pth --eval mAP"
   ]
  },
  {
   "cell_type": "code",
   "execution_count": null,
   "id": "792d3085",
   "metadata": {},
   "outputs": [],
   "source": []
  }
 ],
 "metadata": {
  "kernelspec": {
   "display_name": "Python [conda env:open-mmlab] *",
   "language": "python",
   "name": "conda-env-open-mmlab-py"
  },
  "language_info": {
   "codemirror_mode": {
    "name": "ipython",
    "version": 3
   },
   "file_extension": ".py",
   "mimetype": "text/x-python",
   "name": "python",
   "nbconvert_exporter": "python",
   "pygments_lexer": "ipython3",
   "version": "3.7.13"
  }
 },
 "nbformat": 4,
 "nbformat_minor": 5
}
