{
 "cells": [
  {
   "cell_type": "markdown",
   "id": "2ac5f92e",
   "metadata": {
    "ExecuteTime": {
     "start_time": "2023-04-18T08:47:59.650Z"
    }
   },
   "source": [
    "!python /opt/data/private/shen/mmrotate-0.3.3/tools/train.py \\\n",
    "   smoothl1_train.py"
   ]
  },
  {
   "cell_type": "code",
   "execution_count": null,
   "id": "9d8f545a",
   "metadata": {},
   "outputs": [],
   "source": []
  }
 ],
 "metadata": {
  "kernelspec": {
   "display_name": "Python [conda env:open-mmlab] *",
   "language": "python",
   "name": "conda-env-open-mmlab-py"
  },
  "language_info": {
   "codemirror_mode": {
    "name": "ipython",
    "version": 3
   },
   "file_extension": ".py",
   "mimetype": "text/x-python",
   "name": "python",
   "nbconvert_exporter": "python",
   "pygments_lexer": "ipython3",
   "version": "3.7.13"
  }
 },
 "nbformat": 4,
 "nbformat_minor": 5
}
