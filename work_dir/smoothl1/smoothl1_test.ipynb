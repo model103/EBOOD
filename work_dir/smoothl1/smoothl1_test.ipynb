{
 "cells": [
  {
   "cell_type": "code",
   "execution_count": 1,
   "metadata": {
    "ExecuteTime": {
     "end_time": "2023-04-04T08:37:03.536342Z",
     "start_time": "2023-04-04T08:36:30.084499Z"
    }
   },
   "outputs": [
    {
     "name": "stdout",
     "output_type": "stream",
     "text": [
      "/opt/data/private/shen/mmrotate-0.3.3/mmrotate/utils/setup_env.py:39: UserWarning: Setting OMP_NUM_THREADS environment variable for each process to be 1 in default, to avoid your system being overloaded, please further tune the variable for optimal performance in your application as needed.\n",
      "  f'Setting OMP_NUM_THREADS environment variable for each process '\n",
      "/opt/data/private/shen/mmrotate-0.3.3/mmrotate/utils/setup_env.py:49: UserWarning: Setting MKL_NUM_THREADS environment variable for each process to be 1 in default, to avoid your system being overloaded, please further tune the variable for optimal performance in your application as needed.\n",
      "  f'Setting MKL_NUM_THREADS environment variable for each process '\n",
      "/opt/data/private/shen/mmdetection-2.26.0/mmdet/models/dense_heads/anchor_head.py:116: UserWarning: DeprecationWarning: `num_anchors` is deprecated, for consistency or also use `num_base_priors` instead\n",
      "  warnings.warn('DeprecationWarning: `num_anchors` is deprecated, '\n",
      "load checkpoint from local path: checkpoints/epoch_10.pth\n",
      "[                                                  ] 0/60, elapsed: 0s, ETA:/opt/data/private/shen/mmdetection-2.26.0/mmdet/models/dense_heads/anchor_head.py:123: UserWarning: DeprecationWarning: anchor_generator is deprecated, please use \"prior_generator\" instead\n",
      "  warnings.warn('DeprecationWarning: anchor_generator is deprecated, '\n",
      "[>>>>>>>>>>>>>>>>>>>>>>>>>>>>>>>>] 60/60, 5.7 task/s, elapsed: 11s, ETA:     0s\n",
      "+----------+-----+------+--------+-------+\n",
      "| class    | gts | dets | recall | ap    |\n",
      "+----------+-----+------+--------+-------+\n",
      "| type_001 | 47  | 65   | 1.000  | 0.981 |\n",
      "| type_002 | 48  | 51   | 0.979  | 0.909 |\n",
      "| type_003 | 49  | 89   | 1.000  | 0.966 |\n",
      "| type_004 | 48  | 57   | 1.000  | 0.995 |\n",
      "| type_005 | 59  | 75   | 0.983  | 0.888 |\n",
      "| type_006 | 63  | 61   | 0.952  | 0.909 |\n",
      "| type_007 | 55  | 57   | 1.000  | 1.000 |\n",
      "| type_008 | 55  | 66   | 1.000  | 1.000 |\n",
      "| type_009 | 45  | 52   | 1.000  | 1.000 |\n",
      "| type_010 | 51  | 55   | 1.000  | 1.000 |\n",
      "| type_011 | 51  | 57   | 1.000  | 1.000 |\n",
      "| type_012 | 45  | 49   | 1.000  | 1.000 |\n",
      "| type_013 | 45  | 46   | 1.000  | 1.000 |\n",
      "+----------+-----+------+--------+-------+\n",
      "| mAP      |     |      |        | 0.973 |\n",
      "+----------+-----+------+--------+-------+\n",
      "{'mAP': 0.9729210734367371}\n"
     ]
    }
   ],
   "source": [
    "!python ../../tools/test.py \\\n",
    "  smoothl1_train.py \\\n",
    "  checkpoints/epoch_10.pth --eval mAP"
   ]
  },
  {
   "cell_type": "code",
   "execution_count": null,
   "metadata": {},
   "outputs": [],
   "source": []
  }
 ],
 "metadata": {
  "kernelspec": {
   "display_name": "Python [conda env:open-mmlab]",
   "language": "python",
   "name": "conda-env-open-mmlab-py"
  },
  "language_info": {
   "codemirror_mode": {
    "name": "ipython",
    "version": 3
   },
   "file_extension": ".py",
   "mimetype": "text/x-python",
   "name": "python",
   "nbconvert_exporter": "python",
   "pygments_lexer": "ipython3",
   "version": "3.7.13"
  }
 },
 "nbformat": 4,
 "nbformat_minor": 5
}
