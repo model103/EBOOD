{
 "cells": [
  {
   "cell_type": "code",
   "execution_count": null,
   "id": "e0c039a4",
   "metadata": {},
   "outputs": [],
   "source": [
    "!python /opt/data/private/shen/mmrotate-0.3.3/tools/test.py \\\n",
    "  IoU.py \\\n",
    "  latest.pth --eval mAP"
   ]
  }
 ],
 "metadata": {
  "kernelspec": {
   "display_name": "Python [conda env:open-mmlab] *",
   "language": "python",
   "name": "conda-env-open-mmlab-py"
  },
  "language_info": {
   "codemirror_mode": {
    "name": "ipython",
    "version": 3
   },
   "file_extension": ".py",
   "mimetype": "text/x-python",
   "name": "python",
   "nbconvert_exporter": "python",
   "pygments_lexer": "ipython3",
   "version": "3.7.13"
  }
 },
 "nbformat": 4,
 "nbformat_minor": 5
}
