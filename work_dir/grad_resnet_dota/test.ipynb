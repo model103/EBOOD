{
 "cells": [
  {
   "cell_type": "code",
   "execution_count": 1,
   "id": "21108d7a",
   "metadata": {
    "ExecuteTime": {
     "end_time": "2023-04-19T13:53:05.129772Z",
     "start_time": "2023-04-19T13:48:54.215891Z"
    }
   },
   "outputs": [
    {
     "name": "stdout",
     "output_type": "stream",
     "text": [
      "/opt/data/private/shen/mmrotate-0.3.3/mmrotate/utils/setup_env.py:39: UserWarning: Setting OMP_NUM_THREADS environment variable for each process to be 1 in default, to avoid your system being overloaded, please further tune the variable for optimal performance in your application as needed.\n",
      "  f'Setting OMP_NUM_THREADS environment variable for each process '\n",
      "/opt/data/private/shen/mmrotate-0.3.3/mmrotate/utils/setup_env.py:49: UserWarning: Setting MKL_NUM_THREADS environment variable for each process to be 1 in default, to avoid your system being overloaded, please further tune the variable for optimal performance in your application as needed.\n",
      "  f'Setting MKL_NUM_THREADS environment variable for each process '\n",
      "/opt/data/private/shen/mmdetection-2.26.0/mmdet/models/dense_heads/anchor_head.py:116: UserWarning: DeprecationWarning: `num_anchors` is deprecated, for consistency or also use `num_base_priors` instead\n",
      "  warnings.warn('DeprecationWarning: `num_anchors` is deprecated, '\n",
      "load checkpoint from local path: checkpoints/latest.pth\n",
      "[                                                  ] 0/3066, elapsed: 0s, ETA:/opt/data/private/shen/mmdetection-2.26.0/mmdet/models/dense_heads/anchor_head.py:123: UserWarning: DeprecationWarning: anchor_generator is deprecated, please use \"prior_generator\" instead\n",
      "  warnings.warn('DeprecationWarning: anchor_generator is deprecated, '\n",
      "[>>>>>>>>>>>>>>>>>>>>>>>>>>] 3066/3066, 14.7 task/s, elapsed: 209s, ETA:     0s\n",
      "+--------------------+-------+-------+--------+-------+\n",
      "| class              | gts   | dets  | recall | ap    |\n",
      "+--------------------+-------+-------+--------+-------+\n",
      "| plane              | 4449  | 6283  | 0.909  | 0.878 |\n",
      "| baseball-diamond   | 358   | 1239  | 0.830  | 0.708 |\n",
      "| bridge             | 783   | 3710  | 0.617  | 0.442 |\n",
      "| ground-track-field | 212   | 1903  | 0.764  | 0.539 |\n",
      "| small-vehicle      | 10579 | 25260 | 0.758  | 0.615 |\n",
      "| large-vehicle      | 8819  | 17658 | 0.897  | 0.774 |\n",
      "| ship               | 18537 | 24866 | 0.890  | 0.801 |\n",
      "| tennis-court       | 1512  | 2550  | 0.921  | 0.895 |\n",
      "| basketball-court   | 266   | 1537  | 0.707  | 0.573 |\n",
      "| storage-tank       | 4740  | 6493  | 0.609  | 0.585 |\n",
      "| soccer-ball-field  | 251   | 1744  | 0.721  | 0.511 |\n",
      "| roundabout         | 275   | 1692  | 0.673  | 0.526 |\n",
      "| harbor             | 4167  | 7034  | 0.791  | 0.662 |\n",
      "| swimming-pool      | 732   | 1729  | 0.627  | 0.461 |\n",
      "| helicopter         | 122   | 433   | 0.582  | 0.363 |\n",
      "+--------------------+-------+-------+--------+-------+\n",
      "| mAP                |       |       |        | 0.622 |\n",
      "+--------------------+-------+-------+--------+-------+\n",
      "{'mAP': 0.6222148537635803}\n"
     ]
    }
   ],
   "source": [
    "!python /opt/data/private/shen/mmrotate-0.3.3/tools/test.py \\\n",
    "grad_resnet_dota.py \\\n",
    "checkpoints/latest.pth --eval mAP"
   ]
  },
  {
   "cell_type": "code",
   "execution_count": null,
   "id": "a797323b",
   "metadata": {},
   "outputs": [],
   "source": []
  }
 ],
 "metadata": {
  "kernelspec": {
   "display_name": "Python [conda env:open-mmlab] *",
   "language": "python",
   "name": "conda-env-open-mmlab-py"
  },
  "language_info": {
   "codemirror_mode": {
    "name": "ipython",
    "version": 3
   },
   "file_extension": ".py",
   "mimetype": "text/x-python",
   "name": "python",
   "nbconvert_exporter": "python",
   "pygments_lexer": "ipython3",
   "version": "3.7.13"
  }
 },
 "nbformat": 4,
 "nbformat_minor": 5
}
